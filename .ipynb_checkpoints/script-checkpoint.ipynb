{
 "cells": [
  {
   "cell_type": "code",
   "execution_count": null,
   "id": "f9bb1b7d",
   "metadata": {},
   "outputs": [],
   "source": [
    "import codecademylib3_seaborn\n",
    "import pandas as pd\n",
    "import numpy as np\n",
    "from weather_data import london_data\n",
    "\n",
    "# Explore the data\n",
    "print(london_data.head())\n",
    "# print(london_data.iloc[100:200])\n",
    "print(len(london_data))\n",
    "\n",
    "# Looking at Temperature\n",
    "\n",
    "temp = london_data['TemperatureC']\n",
    "average_temp = np.mean(temp)\n",
    "# print(average_temp)\n",
    "temperature_var = np.var(temp) #variance of the temperature column \n",
    "print(temperature_var)\n",
    "\n",
    "temperature_standard_deviation = np.std(temp) # standard deviation of the temperature column\n",
    "print(temperature_standard_deviation)\n",
    "\n",
    "# Filtering by month\n",
    "# print(london_data.head())\n",
    "# print(london_data.tail())\n",
    "june = london_data.loc[london_data[\"month\"] == 6][\"TemperatureC\"] # Gets the temperature from the rows where \"month\" is 6. These will be all of the rows from the month of June.\n",
    "\n",
    "july = london_data.loc[london_data[\"month\"] == 7][\"TemperatureC\"] # Gets the temperature from the rows where \"month\" is 7. These will be all of the rows from the month of July.\n",
    "\n",
    "print(np.mean(june))\n",
    "print(np.mean(july))\n",
    "\n",
    "print(np.std(june))\n",
    "print(np.std(july))\n",
    "\n",
    "# Getting the mean and standard deviation of every month\n",
    "\n",
    "for i in range(1, 13):\n",
    "  month = london_data.loc[london_data[\"month\"] == i][\"TemperatureC\"]\n",
    "  print(\"The mean temperature in month \"+str(i) +\" is \"+ str(np.mean(month)))\n",
    "  print(\"The standard deviation of temperature in month \"+str(i) +\" is \"+ str(np.std(month)) +\"\\n\")\n",
    "\n",
    "\n",
    "\n"
   ]
  }
 ],
 "metadata": {
  "kernelspec": {
   "display_name": "Python 3",
   "language": "python",
   "name": "python3"
  },
  "language_info": {
   "codemirror_mode": {
    "name": "ipython",
    "version": 3
   },
   "file_extension": ".py",
   "mimetype": "text/x-python",
   "name": "python",
   "nbconvert_exporter": "python",
   "pygments_lexer": "ipython3",
   "version": "3.8.8"
  }
 },
 "nbformat": 4,
 "nbformat_minor": 5
}
